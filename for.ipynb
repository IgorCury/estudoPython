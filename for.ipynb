{
 "cells": [
  {
   "cell_type": "code",
   "execution_count": 15,
   "id": "78489ea1",
   "metadata": {},
   "outputs": [
    {
     "name": "stdout",
     "output_type": "stream",
     "text": [
      "1\n",
      "2\n",
      "3\n",
      "4\n",
      "5\n",
      "6\n",
      "7\n",
      "8\n",
      "9\n"
     ]
    }
   ],
   "source": [
    "for i in range(1, 10,):\n",
    "    \n",
    "    print(i)"
   ]
  },
  {
   "cell_type": "code",
   "execution_count": 14,
   "id": "7599f8ea",
   "metadata": {},
   "outputs": [
    {
     "name": "stdout",
     "output_type": "stream",
     "text": [
      "10\n",
      "9\n",
      "8\n",
      "7\n",
      "6\n",
      "5\n",
      "4\n",
      "3\n",
      "2\n",
      "1\n"
     ]
    }
   ],
   "source": [
    "\n",
    "#se trocar o -1 por -2 ou parecido vai de 2 em 2\n",
    "for i in range(10, 0, -1):\n",
    "    print(i)"
   ]
  },
  {
   "cell_type": "code",
   "execution_count": 41,
   "id": "2ae7b572",
   "metadata": {},
   "outputs": [
    {
     "name": "stdout",
     "output_type": "stream",
     "text": [
      "Os numeros impares são 1\n",
      "Os numeros impares são 3\n",
      "Os numeros impares são 5\n",
      "Os numeros impares são 7\n",
      "Os numeros impares são 9\n",
      "A soma é de 25\n"
     ]
    }
   ],
   "source": [
    "soma = 0\n",
    "\n",
    "for i in range(1, 11, 2):\n",
    "    print(\"Os numeros impares são\", i)\n",
    "      \n",
    "    soma += i  \n",
    "    \n",
    "print(\"A soma é de\", soma)\n",
    "    \n",
    "    "
   ]
  },
  {
   "cell_type": "code",
   "execution_count": 64,
   "id": "fea222f2",
   "metadata": {},
   "outputs": [
    {
     "name": "stdout",
     "output_type": "stream",
     "text": [
      "Os numeros são 1 esses: 1\n",
      "Os numeros são 2 esses: 1\n",
      "Os numeros são 3 esses: 2\n",
      "Os numeros são 4 esses: 6\n",
      "Os numeros são 5 esses: 24\n",
      "O resultado da soma é: 120\n"
     ]
    }
   ],
   "source": [
    "soma = 1\n",
    "\n",
    "for i in range (1, 6):\n",
    "    \n",
    "        print(\"Os numeros são\", i, \"esses:\", soma)\n",
    "        \n",
    "        soma *= i\n",
    "print(\"O resultado da soma é:\", soma)"
   ]
  },
  {
   "cell_type": "code",
   "execution_count": 85,
   "id": "6797595f",
   "metadata": {},
   "outputs": [
    {
     "name": "stdout",
     "output_type": "stream",
     "text": [
      "escolha um numero6\n",
      "2\n",
      "5\n",
      "8\n",
      "3\n"
     ]
    }
   ],
   "source": [
    "soma = int(input(\"escolha um numero\"))\n",
    "soma_pares = 0\n",
    "for i in range(1, soma + 1 ):\n",
    "    \n",
    "    if i % 2 == 0:\n",
    "    \n",
    "        print(i+soma_pares)\n",
    "    \n",
    "        soma_pares += 1\n",
    "    \n",
    "print(soma_pares)    \n"
   ]
  },
  {
   "cell_type": "code",
   "execution_count": 174,
   "id": "9f03e21b",
   "metadata": {},
   "outputs": [
    {
     "name": "stdout",
     "output_type": "stream",
     "text": [
      "Escolha numerinho da taburada! 10\n",
      "10 x 1 = 10\n",
      "10 x 2 = 20\n",
      "10 x 3 = 30\n",
      "10 x 4 = 40\n",
      "10 x 5 = 50\n",
      "10 x 6 = 60\n",
      "10 x 7 = 70\n",
      "10 x 8 = 80\n",
      "10 x 9 = 90\n",
      "10 x 10 = 100\n"
     ]
    }
   ],
   "source": [
    "dedinocu = int(input(\"Escolha numerinho da taburada!\" + \" \"))\n",
    "\n",
    "\n",
    "for i in range(1, dedinocu + 1):\n",
    "    \n",
    "    resultado = dedinocu * i                        \n",
    "    print(dedinocu, \"x\", i, \"=\", resultado)\n",
    "        \n",
    "       \n",
    "    \n",
    "\n",
    "    "
   ]
  },
  {
   "cell_type": "code",
   "execution_count": 102,
   "id": "36366971",
   "metadata": {},
   "outputs": [
    {
     "name": "stdout",
     "output_type": "stream",
     "text": [
      "Digite o numero inteiro! 9\n",
      "A soma dos quadrados 1 é de 1\n",
      "A soma dos quadrados 2 é de 4\n",
      "A soma dos quadrados 3 é de 9\n",
      "A soma dos quadrados 4 é de 16\n",
      "A soma dos quadrados 5 é de 25\n",
      "A soma dos quadrados 6 é de 36\n",
      "A soma dos quadrados 7 é de 49\n",
      "A soma dos quadrados 8 é de 64\n",
      "A soma dos quadrados 9 é de 81\n",
      "soma de todos os numeros é de 285\n"
     ]
    }
   ],
   "source": [
    "digi = int(input(\"Digite o numero inteiro!\" + \" \"))\n",
    "\n",
    "pit = 0\n",
    "\n",
    "for i in range(1, digi + 1):\n",
    "    \n",
    "    conta = i * i    \n",
    "    print(\"A soma dos quadrados\", i, \"é de\", conta) \n",
    "    \n",
    "    pit += conta\n",
    "    \n",
    "print(\"soma de todos os numeros é de\", pit)\n",
    "    \n",
    "\n",
    "   \n",
    "        \n"
   ]
  },
  {
   "cell_type": "code",
   "execution_count": 115,
   "id": "af06146e",
   "metadata": {},
   "outputs": [
    {
     "name": "stdout",
     "output_type": "stream",
     "text": [
      "A\n",
      "B\n",
      "C\n"
     ]
    }
   ],
   "source": [
    "lista = [\"A\", \"B\", \"C\", \"D\", \"E\"]\n",
    "\n",
    "for i in lista:\n",
    "    print(i)\n",
    "    \n",
    "    if i == \"C\":\n",
    "    \n",
    "        break"
   ]
  },
  {
   "cell_type": "markdown",
   "id": "4a4ea22a",
   "metadata": {},
   "source": [
    "# "
   ]
  },
  {
   "cell_type": "code",
   "execution_count": 118,
   "id": "0662d746",
   "metadata": {},
   "outputs": [
    {
     "name": "stdout",
     "output_type": "stream",
     "text": [
      "Banana\n",
      "Maça\n",
      "Laranja\n"
     ]
    }
   ],
   "source": [
    "lista = [\"Banana\", \"Maça\", \"Laranja\"]\n",
    "\n",
    "for i in lista:\n",
    "    print(i)"
   ]
  },
  {
   "cell_type": "code",
   "execution_count": 75,
   "id": "7a8056f3",
   "metadata": {},
   "outputs": [
    {
     "name": "stdout",
     "output_type": "stream",
     "text": [
      "Digite um numero qualquer!5\n",
      "1\n",
      "2\n",
      "3\n",
      "4\n",
      "5\n"
     ]
    }
   ],
   "source": [
    "numero = int(input(\"Digite um numero qualquer!\"))\n",
    "\n",
    "for i in range(1, numero + 1):\n",
    "        \n",
    "        print(i)"
   ]
  },
  {
   "cell_type": "code",
   "execution_count": 141,
   "id": "202d0118",
   "metadata": {},
   "outputs": [
    {
     "name": "stdout",
     "output_type": "stream",
     "text": [
      "eu preciso comprar: maça\n",
      "eu preciso comprar: banana\n",
      "eu preciso comprar: cenoura\n",
      "eu preciso comprar: leite\n"
     ]
    }
   ],
   "source": [
    "lista = [\"maça\", \"banana\", \"cenoura\", \"leite\"]\n",
    "for i in lista:\n",
    "        print(\"eu preciso comprar:\", i)\n"
   ]
  },
  {
   "cell_type": "code",
   "execution_count": 80,
   "id": "57477dcf",
   "metadata": {},
   "outputs": [
    {
     "name": "stdout",
     "output_type": "stream",
     "text": [
      "*****\n",
      "****\n",
      "***\n",
      "**\n",
      "*\n"
     ]
    }
   ],
   "source": [
    "for i in range(5, 0, - 1):\n",
    "    \n",
    "    cobaia = i * \"*\"\n",
    "    \n",
    "    print(cobaia)"
   ]
  },
  {
   "cell_type": "code",
   "execution_count": 62,
   "id": "c6a3f918",
   "metadata": {},
   "outputs": [
    {
     "name": "stdout",
     "output_type": "stream",
     "text": [
      "Esses numeros são imapares 1\n",
      "Esses numeros são pares 2\n",
      "Esses numeros são imapares 3\n",
      "Esses numeros são pares 4\n",
      "Esses numeros são imapares 5\n",
      "Esses numeros são pares 6\n",
      "Esses numeros são imapares 7\n",
      "Esses numeros são pares 8\n",
      "Esses numeros são imapares 9\n",
      "Esses numeros são pares 10\n"
     ]
    }
   ],
   "source": [
    "num = [1, 2, 3, 4, 5, 6, 7, 8, 9, 10,]\n",
    "cleide = 0\n",
    "for i in num:\n",
    "    if i % 2:\n",
    "        print(\"Esses numeros são imapares\", i)\n",
    "    else:\n",
    "        i * 2\n",
    "        print(\"Esses numeros são pares\", i)"
   ]
  },
  {
   "cell_type": "code",
   "execution_count": 2,
   "id": "b1c4aeb3",
   "metadata": {},
   "outputs": [
    {
     "name": "stdout",
     "output_type": "stream",
     "text": [
      "carro\n",
      "arvore\n"
     ]
    }
   ],
   "source": [
    "mesc = ['casa','carro','sol','arvore']\n",
    "\n",
    "for i in mesc:\n",
    "    \n",
    "    if len(i) > 4:\n",
    "        \n",
    "        print(i)\n",
    "  \n",
    "\n"
   ]
  },
  {
   "cell_type": "code",
   "execution_count": 2,
   "id": "33cdd8fd",
   "metadata": {},
   "outputs": [
    {
     "name": "stdout",
     "output_type": "stream",
     "text": [
      "1 x 1 = 1\n",
      "1 x 2 = 2\n",
      "1 x 3 = 3\n",
      "1 x 4 = 4\n",
      "2 x 1 = 2\n",
      "2 x 2 = 4\n",
      "2 x 3 = 6\n",
      "2 x 4 = 8\n",
      "3 x 1 = 3\n",
      "3 x 2 = 6\n",
      "3 x 3 = 9\n",
      "3 x 4 = 12\n",
      "4 x 1 = 4\n",
      "4 x 2 = 8\n",
      "4 x 3 = 12\n",
      "4 x 4 = 16\n"
     ]
    }
   ],
   "source": [
    "for i in range(1, 4 + 1):\n",
    "    \n",
    "    for j in range (1, 4 + 1):\n",
    "        \n",
    "        print(i, \"x\", j, \"=\", i * j)"
   ]
  },
  {
   "cell_type": "code",
   "execution_count": 35,
   "id": "eacf8b43",
   "metadata": {},
   "outputs": [
    {
     "name": "stdout",
     "output_type": "stream",
     "text": [
      "Escolha um numerin! 5\n",
      "O fatorial deste numero é 120\n"
     ]
    }
   ],
   "source": [
    "duu = int(input(\"Escolha um numerin!\" + \" \"))\n",
    "pit = 1\n",
    "for i in range(1, duu + 1):\n",
    "    pit *= i\n",
    "    \n",
    "print(\"O fatorial deste numero é\", pit)\n",
    "    "
   ]
  },
  {
   "cell_type": "code",
   "execution_count": null,
   "id": "7a0407a8",
   "metadata": {},
   "outputs": [],
   "source": []
  }
 ],
 "metadata": {
  "kernelspec": {
   "display_name": "Python 3 (ipykernel)",
   "language": "python",
   "name": "python3"
  },
  "language_info": {
   "codemirror_mode": {
    "name": "ipython",
    "version": 3
   },
   "file_extension": ".py",
   "mimetype": "text/x-python",
   "name": "python",
   "nbconvert_exporter": "python",
   "pygments_lexer": "ipython3",
   "version": "3.11.5"
  }
 },
 "nbformat": 4,
 "nbformat_minor": 5
}
