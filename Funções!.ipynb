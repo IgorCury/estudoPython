{
 "cells": [
  {
   "cell_type": "code",
   "execution_count": 4,
   "id": "a833ef2c",
   "metadata": {},
   "outputs": [
    {
     "name": "stdout",
     "output_type": "stream",
     "text": [
      "5\n"
     ]
    }
   ],
   "source": [
    "def soma (a, b):\n",
    "    return a + b\n",
    "resultado = soma (2, 3)\n",
    "print(resultado)"
   ]
  },
  {
   "cell_type": "code",
   "execution_count": 8,
   "id": "ac394e68",
   "metadata": {},
   "outputs": [
    {
     "name": "stdout",
     "output_type": "stream",
     "text": [
      "5\n",
      "10\n",
      "11\n"
     ]
    }
   ],
   "source": [
    "def soma (a, b): # esse serve como base para a logica que vai vir em seguida def(funcao)\n",
    "    return a + b\n",
    "resultado = soma (2, 3)\n",
    "print(resultado)\n",
    "resultado = soma (7, 3)\n",
    "print(resultado)\n",
    "resultado = soma (8, 3)\n",
    "print(resultado)"
   ]
  },
  {
   "cell_type": "code",
   "execution_count": 13,
   "id": "482a7e40",
   "metadata": {},
   "outputs": [
    {
     "name": "stdout",
     "output_type": "stream",
     "text": [
      "Digite o primeiro numero 5\n",
      "Digite o segudo numero 5\n",
      "O resultado da conta é 10\n"
     ]
    }
   ],
   "source": [
    "def soma(a, b):\n",
    "    return a + b\n",
    "jango = int(input(\"Digite o primeiro numero\" + \" \"))\n",
    "jingue = int(input(\"Digite o segudo numero\" + \" \"))\n",
    "sop = jango + jingue\n",
    "print(\"O resultado da conta é\", sop)"
   ]
  },
  {
   "cell_type": "code",
   "execution_count": 33,
   "id": "040abf99",
   "metadata": {},
   "outputs": [
    {
     "name": "stdout",
     "output_type": "stream",
     "text": [
      "Olá  Joao ! bem vindo\n"
     ]
    }
   ],
   "source": [
    "def saudacao(nome):\n",
    "    \n",
    "    print(\"Olá \", nome, \"! bem vindo\" )\n",
    "nome_us = \"Joao\"\n",
    "\n",
    "saudacao(nome_us)\n",
    "    "
   ]
  },
  {
   "cell_type": "code",
   "execution_count": 16,
   "id": "dcbe10aa",
   "metadata": {},
   "outputs": [
    {
     "ename": "KeyboardInterrupt",
     "evalue": "Interrupted by user",
     "output_type": "error",
     "traceback": [
      "\u001b[1;31m---------------------------------------------------------------------------\u001b[0m",
      "\u001b[1;31mKeyboardInterrupt\u001b[0m                         Traceback (most recent call last)",
      "Cell \u001b[1;32mIn[16], line 7\u001b[0m\n\u001b[0;32m      3\u001b[0m     \u001b[38;5;28;01mreturn\u001b[39;00m \u001b[38;5;28msum\u001b[39m(args) \u001b[38;5;241m/\u001b[39m \u001b[38;5;28mlen\u001b[39m(args), \u001b[38;5;28mmax\u001b[39m(args), \u001b[38;5;28mmin\u001b[39m(args)\n\u001b[0;32m      5\u001b[0m \u001b[38;5;66;03m#sum soma len conta max maior min menor\u001b[39;00m\n\u001b[1;32m----> 7\u001b[0m numeros \u001b[38;5;241m=\u001b[39m \u001b[38;5;28mlist\u001b[39m(\u001b[38;5;28mmap\u001b[39m(\u001b[38;5;28mfloat\u001b[39m, \u001b[38;5;28minput\u001b[39m(\u001b[38;5;124m\"\u001b[39m\u001b[38;5;124mDigite uma sequencia de numeros separados por espaços\u001b[39m\u001b[38;5;124m\"\u001b[39m)\u001b[38;5;241m.\u001b[39msplit())) \n\u001b[0;32m      8\u001b[0m \u001b[38;5;66;03m#sempre que usar map precisa ursar float\u001b[39;00m\n\u001b[0;32m      9\u001b[0m \u001b[38;5;66;03m# split separa as strings\u001b[39;00m\n\u001b[0;32m     10\u001b[0m media, maior, menor \u001b[38;5;241m=\u001b[39m estatistica(\u001b[38;5;241m*\u001b[39mnumeros)\n",
      "File \u001b[1;32m~\\anaconda3\\Lib\\site-packages\\ipykernel\\kernelbase.py:1202\u001b[0m, in \u001b[0;36mKernel.raw_input\u001b[1;34m(self, prompt)\u001b[0m\n\u001b[0;32m   1200\u001b[0m     msg \u001b[38;5;241m=\u001b[39m \u001b[38;5;124m\"\u001b[39m\u001b[38;5;124mraw_input was called, but this frontend does not support input requests.\u001b[39m\u001b[38;5;124m\"\u001b[39m\n\u001b[0;32m   1201\u001b[0m     \u001b[38;5;28;01mraise\u001b[39;00m StdinNotImplementedError(msg)\n\u001b[1;32m-> 1202\u001b[0m \u001b[38;5;28;01mreturn\u001b[39;00m \u001b[38;5;28mself\u001b[39m\u001b[38;5;241m.\u001b[39m_input_request(\n\u001b[0;32m   1203\u001b[0m     \u001b[38;5;28mstr\u001b[39m(prompt),\n\u001b[0;32m   1204\u001b[0m     \u001b[38;5;28mself\u001b[39m\u001b[38;5;241m.\u001b[39m_parent_ident[\u001b[38;5;124m\"\u001b[39m\u001b[38;5;124mshell\u001b[39m\u001b[38;5;124m\"\u001b[39m],\n\u001b[0;32m   1205\u001b[0m     \u001b[38;5;28mself\u001b[39m\u001b[38;5;241m.\u001b[39mget_parent(\u001b[38;5;124m\"\u001b[39m\u001b[38;5;124mshell\u001b[39m\u001b[38;5;124m\"\u001b[39m),\n\u001b[0;32m   1206\u001b[0m     password\u001b[38;5;241m=\u001b[39m\u001b[38;5;28;01mFalse\u001b[39;00m,\n\u001b[0;32m   1207\u001b[0m )\n",
      "File \u001b[1;32m~\\anaconda3\\Lib\\site-packages\\ipykernel\\kernelbase.py:1245\u001b[0m, in \u001b[0;36mKernel._input_request\u001b[1;34m(self, prompt, ident, parent, password)\u001b[0m\n\u001b[0;32m   1242\u001b[0m \u001b[38;5;28;01mexcept\u001b[39;00m \u001b[38;5;167;01mKeyboardInterrupt\u001b[39;00m:\n\u001b[0;32m   1243\u001b[0m     \u001b[38;5;66;03m# re-raise KeyboardInterrupt, to truncate traceback\u001b[39;00m\n\u001b[0;32m   1244\u001b[0m     msg \u001b[38;5;241m=\u001b[39m \u001b[38;5;124m\"\u001b[39m\u001b[38;5;124mInterrupted by user\u001b[39m\u001b[38;5;124m\"\u001b[39m\n\u001b[1;32m-> 1245\u001b[0m     \u001b[38;5;28;01mraise\u001b[39;00m \u001b[38;5;167;01mKeyboardInterrupt\u001b[39;00m(msg) \u001b[38;5;28;01mfrom\u001b[39;00m \u001b[38;5;28;01mNone\u001b[39;00m\n\u001b[0;32m   1246\u001b[0m \u001b[38;5;28;01mexcept\u001b[39;00m \u001b[38;5;167;01mException\u001b[39;00m:\n\u001b[0;32m   1247\u001b[0m     \u001b[38;5;28mself\u001b[39m\u001b[38;5;241m.\u001b[39mlog\u001b[38;5;241m.\u001b[39mwarning(\u001b[38;5;124m\"\u001b[39m\u001b[38;5;124mInvalid Message:\u001b[39m\u001b[38;5;124m\"\u001b[39m, exc_info\u001b[38;5;241m=\u001b[39m\u001b[38;5;28;01mTrue\u001b[39;00m)\n",
      "\u001b[1;31mKeyboardInterrupt\u001b[0m: Interrupted by user"
     ]
    }
   ],
   "source": [
    "#Nada mais são do que argumentos de posição (parâmetros na ordem em que a sua função está solicitando os argumentos\n",
    "def estatistica(*args):\n",
    "    return sum(args) / len(args), max(args), min(args)\n",
    "\n",
    "#sum soma len conta max maior min menor\n",
    "\n",
    "numeros = list(map(float, input(\"Digite uma sequencia de numeros separados por espaços\").split())) \n",
    "#sempre que usar map precisa ursar float\n",
    "# split separa as strings\n",
    "media, maior, menor = estatistica(*numeros)\n",
    "\n",
    "print(f\"Média:\", {media})\n",
    "print(f\"Média:\", {maior})\n",
    "print(f\"Média:\", {menor})\n",
    "\n"
   ]
  },
  {
   "cell_type": "code",
   "execution_count": 11,
   "id": "16567712",
   "metadata": {},
   "outputs": [
    {
     "name": "stdout",
     "output_type": "stream",
     "text": [
      "escolha os numeros separados por espaço10 9 8 7\n",
      "Resultado 8.5\n",
      "Resultado 10.0\n",
      "Resultado 7.0\n"
     ]
    }
   ],
   "source": [
    "def estasticas(*args):\n",
    "    \n",
    "    return sum(args) / len(args), max(args), min(args)\n",
    "\n",
    "teste = list(map(float, input(\"escolha os numeros separados por espaço\").split()))\n",
    "\n",
    "media, maior, minimo = estasticas(*teste)\n",
    "\n",
    "print(\"Resultado\", media)\n",
    "print(\"Resultado\", maior)\n",
    "print(\"Resultado\", minimo)"
   ]
  },
  {
   "cell_type": "code",
   "execution_count": 13,
   "id": "dbbe3d79",
   "metadata": {},
   "outputs": [
    {
     "name": "stdout",
     "output_type": "stream",
     "text": [
      "nome: João\n",
      "idade: 25\n",
      "cidade: São Paulo\n",
      "genero: Masculino\n"
     ]
    }
   ],
   "source": [
    "def exibir_inf(**kwargs):\n",
    "    for chave, valor, in kwargs.items():\n",
    "        print(chave + \": \" + str(valor))\n",
    "exibir_inf(nome=\"João\", idade=25, cidade=\"São Paulo\", genero=\"Masculino\")"
   ]
  },
  {
   "cell_type": "code",
   "execution_count": null,
   "id": "57d51622",
   "metadata": {},
   "outputs": [],
   "source": [
    "\"\"\"Variaveis Locais  vs. Globais\"\"\"\n",
    "\"\"\"Uma variavel definida dentro de uma funcao e chamada de variavel local, enquanto uma definida de toda funcoes e chamada de variavel global\"\"\""
   ]
  },
  {
   "cell_type": "code",
   "execution_count": 23,
   "id": "afec8d87",
   "metadata": {},
   "outputs": [
    {
     "name": "stdout",
     "output_type": "stream",
     "text": [
      "Eu sou uma variavel global!\n",
      "Eu sou uma variavel local\n",
      "Oi\n"
     ]
    }
   ],
   "source": [
    "# Definindo a funcao_global\n",
    "variavel_global = \"Eu sou uma variavel global!\"\n",
    "\n",
    "#criando uma variavel local dentro da funcao\n",
    "def funcao_exemplo():\n",
    "    global variavel_global\n",
    "    variavel_local = \"Eu sou uma variavel local\"\n",
    "    \n",
    "    print(variavel_global)\n",
    "    print(variavel_local)\n",
    "    \n",
    "    variavel_global = \"Oi\"\n",
    "    print(variavel_global)\n",
    "    \n",
    "funcao_exemplo()"
   ]
  },
  {
   "cell_type": "code",
   "execution_count": 24,
   "id": "cfa98e3f",
   "metadata": {},
   "outputs": [
    {
     "name": "stdout",
     "output_type": "stream",
     "text": [
      "1\n"
     ]
    }
   ],
   "source": [
    "#para poder arrumar uma global precisa escrever global\n",
    "\n",
    "contador = 0 \n",
    "def incrementar_contador():\n",
    "    global contador\n",
    "    \n",
    "    contador += 1\n",
    "    \n",
    "    print(contador)\n",
    "\n",
    "incrementar_contador()"
   ]
  },
  {
   "cell_type": "code",
   "execution_count": 31,
   "id": "af15c40e",
   "metadata": {},
   "outputs": [
    {
     "name": "stdout",
     "output_type": "stream",
     "text": [
      "tchau\n"
     ]
    }
   ],
   "source": [
    "cont = \"oi\"\n",
    "\n",
    "def pirulito():\n",
    "    \n",
    "    global cont\n",
    "    \n",
    "    cont = \"tchau\"    \n",
    "    print(cont)\n",
    "\n",
    "pirulito()"
   ]
  },
  {
   "cell_type": "code",
   "execution_count": null,
   "id": "a424e0a9",
   "metadata": {},
   "outputs": [],
   "source": []
  },
  {
   "cell_type": "code",
   "execution_count": null,
   "id": "87d51272",
   "metadata": {},
   "outputs": [],
   "source": []
  }
 ],
 "metadata": {
  "kernelspec": {
   "display_name": "Python 3 (ipykernel)",
   "language": "python",
   "name": "python3"
  },
  "language_info": {
   "codemirror_mode": {
    "name": "ipython",
    "version": 3
   },
   "file_extension": ".py",
   "mimetype": "text/x-python",
   "name": "python",
   "nbconvert_exporter": "python",
   "pygments_lexer": "ipython3",
   "version": "3.11.5"
  }
 },
 "nbformat": 4,
 "nbformat_minor": 5
}
