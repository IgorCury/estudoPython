{
 "cells": [
  {
   "cell_type": "code",
   "execution_count": 23,
   "metadata": {},
   "outputs": [
    {
     "ename": "ValueError",
     "evalue": "could not convert string to float: ''",
     "output_type": "error",
     "traceback": [
      "\u001b[1;31m---------------------------------------------------------------------------\u001b[0m",
      "\u001b[1;31mValueError\u001b[0m                                Traceback (most recent call last)",
      "Cell \u001b[1;32mIn[23], line 17\u001b[0m\n\u001b[0;32m     13\u001b[0m \u001b[38;5;28;01mdef\u001b[39;00m \u001b[38;5;21mdividir\u001b[39m(a, b):\n\u001b[0;32m     15\u001b[0m     \u001b[38;5;28;01mreturn\u001b[39;00m a \u001b[38;5;241m/\u001b[39m b\n\u001b[1;32m---> 17\u001b[0m num1 \u001b[38;5;241m=\u001b[39m \u001b[38;5;28;43mfloat\u001b[39;49m\u001b[43m(\u001b[49m\u001b[38;5;28;43minput\u001b[39;49m\u001b[43m(\u001b[49m\u001b[38;5;124;43m\"\u001b[39;49m\u001b[38;5;124;43mDigite o primeiro numero!\u001b[39;49m\u001b[38;5;124;43m\"\u001b[39;49m\u001b[43m)\u001b[49m\u001b[43m)\u001b[49m\n\u001b[0;32m     18\u001b[0m num2 \u001b[38;5;241m=\u001b[39m \u001b[38;5;28mfloat\u001b[39m(\u001b[38;5;28minput\u001b[39m(\u001b[38;5;124m\"\u001b[39m\u001b[38;5;124mDigite o segundo numero!\u001b[39m\u001b[38;5;124m\"\u001b[39m))\n\u001b[0;32m     20\u001b[0m op \u001b[38;5;241m=\u001b[39m \u001b[38;5;28minput\u001b[39m(\u001b[38;5;124m\"\u001b[39m\u001b[38;5;124mescolha uma operação \u001b[39m\u001b[38;5;130;01m\\n\u001b[39;00m\u001b[38;5;124m adicionar \u001b[39m\u001b[38;5;130;01m\\n\u001b[39;00m\u001b[38;5;124m multiplicar \u001b[39m\u001b[38;5;130;01m\\n\u001b[39;00m\u001b[38;5;124m diminuir \u001b[39m\u001b[38;5;130;01m\\n\u001b[39;00m\u001b[38;5;124m dividir\u001b[39m\u001b[38;5;124m\"\u001b[39m)\n",
      "\u001b[1;31mValueError\u001b[0m: could not convert string to float: ''"
     ]
    }
   ],
   "source": [
    "def adicionar(a, b):\n",
    "\n",
    "    return a + b\n",
    "\n",
    "def multiplicar(a, b):\n",
    "\n",
    "    return a * b\n",
    "\n",
    "def diminuir(a, b):\n",
    "\n",
    "    return a - b\n",
    "\n",
    "def dividir(a, b):\n",
    "\n",
    "    return a / b\n",
    "\n",
    "num1 = float(input(\"Digite o primeiro numero!\"))\n",
    "num2 = float(input(\"Digite o segundo numero!\"))\n",
    "\n",
    "op = input(\"escolha uma operação \\n adicionar \\n multiplicar \\n diminuir \\n dividir\")\n",
    "\n",
    "if op == \"adicionar\":\n",
    "\n",
    "    resultado = adicionar(num1, num2)\n",
    "\n",
    "elif op == \"multiplicar\":\n",
    "\n",
    "    resultado = multiplicar(num1, num2)\n",
    "\n",
    "elif op == \"diminuir\":\n",
    "\n",
    "    resultado = diminuir(num1, num2)\n",
    "\n",
    "elif op == \"dividir\":\n",
    "\n",
    "    resultado = dividir(num1, num2)\n",
    "\n",
    "else:\n",
    "    print(\"ERRROU!\")\n",
    "\n",
    "print(\"Resultado:\", resultado)"
   ]
  },
  {
   "cell_type": "code",
   "execution_count": 25,
   "metadata": {},
   "outputs": [
    {
     "name": "stdout",
     "output_type": "stream",
     "text": [
      "Resultado: 100.0\n"
     ]
    }
   ],
   "source": [
    "def adicionar(a, b):\n",
    "\n",
    "    return a + b\n",
    "\n",
    "def multiplicar(a, b):\n",
    "\n",
    "    return a * b\n",
    "\n",
    "def diminuir(a, b):\n",
    "\n",
    "    return a - b\n",
    "\n",
    "def dividir(a, b):\n",
    "\n",
    "    return a / b\n",
    "\n",
    "num1 = float(input(\"Digite o primeiro numero!\"))\n",
    "num2 = float(input(\"Digite o segundo numero!\"))\n",
    "\n",
    "op = input(\"escolha uma operação \\n adicionar \\n multiplicar \\n diminuir \\n dividir\")\n",
    "\n",
    "if op == \"adicionar\":\n",
    "\n",
    "    resultado = adicionar(num1, num2)\n",
    "\n",
    "elif op == \"multiplicar\":\n",
    "\n",
    "    resultado = multiplicar(num1, num2)\n",
    "\n",
    "elif op == \"diminuir\":\n",
    "\n",
    "    resultado = diminuir(num1, num2)\n",
    "\n",
    "elif op == \"dividir\":\n",
    "\n",
    "    resultado = dividir(num1, num2)\n",
    "\n",
    "else:\n",
    "    print(\"ERRROU!\")\n",
    "\n",
    "print(\"Resultado:\", resultado)"
   ]
  },
  {
   "cell_type": "code",
   "execution_count": null,
   "metadata": {},
   "outputs": [],
   "source": [
    "def fabrica_de_funcoes():\n",
    "\n",
    "    def soma(*args):\n",
    "\n",
    "        return sum(*args)\n",
    "    \n",
    "    def subtracao(*args):\n",
    "\n",
    "        resultado = args[0]\n",
    "\n",
    "       for num in args[1:]:\n",
    "            \n",
    "            resultado -= num\n",
    "        \n",
    "        return resultado\n",
    "\n",
    "def multiplicar(*args):\n",
    "     \n",
    "     resultado = 1\n",
    "\n",
    "     for num in args:\n",
    "          \n",
    "          resultado *= num\n",
    "    \n",
    "    return resultado\n",
    "\n",
    "def divisao(*args):\n",
    "     \n",
    "     resultado = [0]\n",
    "\n",
    "     for num in args[1:]:\n",
    "        \n",
    "        if num == 0:\n",
    "             \n",
    "            raise  ValueError(\"Dvisao por zero é permitido\")\n",
    "        \n",
    "            resultado /= num\n",
    "        \n",
    "    return resultado\n",
    "    "
   ]
  },
  {
   "cell_type": "code",
   "execution_count": 39,
   "metadata": {},
   "outputs": [
    {
     "name": "stdout",
     "output_type": "stream",
     "text": [
      "10\n",
      "10\n",
      "Igual\n",
      "Positvo\n"
     ]
    }
   ],
   "source": [
    "# função para dobrar \n",
    "def dobrar(n):\n",
    "    return n * 2\n",
    "print(dobrar(5))\n",
    "\n",
    "#função para dobrar com lambda\n",
    "dobrar_com_lambda = lambda n: n * 2\n",
    "print(dobrar_com_lambda(5))\n",
    "\n",
    "def numero(n):\n",
    "\n",
    "    if n < 0:\n",
    "        return \"Negativo\"\n",
    "\n",
    "    elif n == 0:\n",
    "        return \"Igual\"\n",
    "    \n",
    "    else:\n",
    "        return \"Positivo\"\n",
    "    \n",
    "print(numero(0))\n",
    "\n",
    "\n",
    "tentativa_lambda = lambda n: \"negativo\" if n < 0 else( \"zero\" if n == 0 else \"Positvo\")\n",
    "print(tentativa_lambda(5))"
   ]
  },
  {
   "cell_type": "code",
   "execution_count": 42,
   "metadata": {},
   "outputs": [
    {
     "name": "stdout",
     "output_type": "stream",
     "text": [
      "[('Maria', 25), ('João', 35), ('Pedro', 40)]\n"
     ]
    }
   ],
   "source": [
    "lista = [\"maça\", \"banana\", \"cereja\", \"damasco\"]\n",
    "\n",
    "\n",
    "pessoas = [(\"João\", 35), (\"Maria\", 25), (\"Pedro\", 40)]\n",
    "pessoas_ordenadas = sorted(pessoas, key=lambda x: x[1])\n",
    "\n",
    "print(pessoas_ordenadas)\n",
    "\n",
    "\n",
    "\n",
    "\n"
   ]
  }
 ],
 "metadata": {
  "kernelspec": {
   "display_name": "Python 3",
   "language": "python",
   "name": "python3"
  },
  "language_info": {
   "codemirror_mode": {
    "name": "ipython",
    "version": 3
   },
   "file_extension": ".py",
   "mimetype": "text/x-python",
   "name": "python",
   "nbconvert_exporter": "python",
   "pygments_lexer": "ipython3",
   "version": "3.12.2"
  }
 },
 "nbformat": 4,
 "nbformat_minor": 2
}
