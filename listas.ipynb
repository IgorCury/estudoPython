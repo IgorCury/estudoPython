{
 "cells": [
  {
   "cell_type": "code",
   "execution_count": 9,
   "metadata": {},
   "outputs": [
    {
     "name": "stdout",
     "output_type": "stream",
     "text": [
      "[85, 90, 78, 92, 88]\n",
      "<class 'int'>\n",
      "<class 'list'>\n"
     ]
    }
   ],
   "source": [
    "notas_aluno = [85, 90, 78, 92, 88]\n",
    "print(notas_aluno)\n",
    "\n",
    "numero = 5\n",
    "print(type(numero))\n",
    "\n",
    "lista_Numeros = [5, 10, 15]\n",
    "print(type(lista_Numeros))"
   ]
  },
  {
   "cell_type": "code",
   "execution_count": 22,
   "metadata": {},
   "outputs": [
    {
     "name": "stdout",
     "output_type": "stream",
     "text": [
      "maça cereja figo banana\n"
     ]
    }
   ],
   "source": [
    "frutas = ['maça', 'banana', 'cereja', 'damasco', 'figo']\n",
    "print(frutas[0], frutas[2], frutas[4], frutas[1])"
   ]
  },
  {
   "cell_type": "code",
   "execution_count": 27,
   "metadata": {},
   "outputs": [
    {
     "name": "stdout",
     "output_type": "stream",
     "text": [
      "['maça', 'banana', 'cereja']\n",
      "['maça', 'abacaxi', 'banana', 'cereja']\n",
      "['maça', 'cereja']\n"
     ]
    }
   ],
   "source": [
    "#append\n",
    "frutas = ['maça', 'banana']\n",
    "frutas.append('cereja')\n",
    "print(frutas)\n",
    "\n",
    "# .insert insere um posicao onde quer\n",
    "frutas = ['maça', 'banana', 'cereja']\n",
    "frutas.insert(1, 'abacaxi')\n",
    "print(frutas)\n",
    "\n",
    "#remover\n",
    "frutas = ['maça', 'banana', 'cereja']\n",
    "frutas.remove('banana')\n",
    "print(frutas)\n",
    "\n"
   ]
  },
  {
   "cell_type": "code",
   "execution_count": 44,
   "metadata": {},
   "outputs": [
    {
     "name": "stdout",
     "output_type": "stream",
     "text": [
      "['peixe', 'cachorro']\n",
      "passaro\n",
      "['tartaruga', 'hamster']\n",
      "['peixe', 'cachorro', 'tartaruga', 'hamster']\n",
      "['peixe', 'cachorro', 'tartaruga', 'hamster', 'peixe', 'cachorro', 'tartaruga', 'hamster']\n",
      "cachorro nao esta na lista\n"
     ]
    }
   ],
   "source": [
    "animais =[]\n",
    "animais.append('gato')\n",
    "animais.append('cachorro')\n",
    "animais.append('passaro')\n",
    "animais.remove('gato')\n",
    "animais.insert(0, 'peixe')\n",
    "animal_removido = animais.pop()\n",
    "print(animais)\n",
    "print(animal_removido)\n",
    "novos_animais = ['tartaruga', 'hamster']\n",
    "print(novos_animais)\n",
    "todos_os_animais = animais + novos_animais\n",
    "print(todos_os_animais)\n",
    "animais_duplicados = todos_os_animais * 2\n",
    "print(animais_duplicados)\n",
    "\n",
    "if 'cachorro LL' in todos_os_animais:\n",
    "    print('cachorro esta na lista')\n",
    "else :\n",
    "    print('cachorro nao esta na lista')"
   ]
  }
 ],
 "metadata": {
  "kernelspec": {
   "display_name": "Python 3",
   "language": "python",
   "name": "python3"
  },
  "language_info": {
   "codemirror_mode": {
    "name": "ipython",
    "version": 3
   },
   "file_extension": ".py",
   "mimetype": "text/x-python",
   "name": "python",
   "nbconvert_exporter": "python",
   "pygments_lexer": "ipython3",
   "version": "3.12.2"
  }
 },
 "nbformat": 4,
 "nbformat_minor": 2
}
