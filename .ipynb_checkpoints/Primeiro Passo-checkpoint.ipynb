{
 "cells": [
  {
   "cell_type": "code",
   "execution_count": 4,
   "id": "8dad0f34",
   "metadata": {},
   "outputs": [
    {
     "name": "stdout",
     "output_type": "stream",
     "text": [
      "Script executando com sucesso!\n"
     ]
    }
   ],
   "source": [
    "#Este sinal serve para comentar codigos\n",
    "\n",
    "\"\"\"\n",
    "\n",
    "Usando 3 aspas a gente \n",
    "comentar  varias linhas\n",
    "assim quando o codigo for executado o script pula estas linhas\n",
    "\n",
    "\"\"\"\n",
    "\n",
    "print (\"Script executando com sucesso!\")"
   ]
  },
  {
   "cell_type": "code",
   "execution_count": 15,
   "id": "3c305649",
   "metadata": {},
   "outputs": [
    {
     "name": "stdout",
     "output_type": "stream",
     "text": [
      "inteiro: 42\n",
      "Flutuante: 42.0\n",
      "Complexo: (3+4j)\n",
      "Ola Mundo\n",
      "[1, 2, 3, 4]\n",
      "Dicionario {'chave': 'valor'}\n"
     ]
    }
   ],
   "source": [
    "inteiro = 42\n",
    "\n",
    "print(\"inteiro:\", inteiro)\n",
    "\n",
    "flutuante = 42.00\n",
    "\n",
    "print(\"Flutuante:\", flutuante)\n",
    "\n",
    "complexo = 3 + 4j\n",
    "print(\"Complexo:\", 3 + 4j)\n",
    "\n",
    "texto = \"Ola Mundo\"\n",
    "print(texto)\n",
    "\n",
    "lista = [1,2,3,4]\n",
    "print (lista)\n",
    "\n",
    "dicionario = {\"chave\" : \"valor\"}\n",
    "print (\"Dicionario\", dicionario)"
   ]
  },
  {
   "cell_type": "code",
   "execution_count": 34,
   "id": "b2fbca5f",
   "metadata": {},
   "outputs": [
    {
     "name": "stdout",
     "output_type": "stream",
     "text": [
      "125.5\n"
     ]
    }
   ],
   "source": [
    "#exercicio de fixaçao\n",
    "\n",
    "#1. Declare uma variavel chamada \"idade\" e atribua o valor de 25 a ela\n",
    "#2. Declare uma variavel chamada \"nome\" e atribua  o valor \"Joao\" a ela.\n",
    "#3. Declare uma variavel chamada \"saldo\" e atribua o valor de 100.50 a ela\n",
    "#4. Crie uma variavel chamada soma e atribua ela as variaveis \"idade\" e \"saldo\"\n",
    "#5. Imrpima na tela o valor variavel \"soma\"\n",
    "\n",
    "idade = 25\n",
    "nome = \"Joao\"\n",
    "saldo = 100.50\n",
    "\n",
    "soma = idade + saldo\n",
    "\n",
    "print(soma)\n"
   ]
  },
  {
   "cell_type": "code",
   "execution_count": 39,
   "id": "473cfc64",
   "metadata": {},
   "outputs": [
    {
     "name": "stdout",
     "output_type": "stream",
     "text": [
      "A soma é: 7.57\n"
     ]
    }
   ],
   "source": [
    "nota1 = 7.5\n",
    "\n",
    "nota2 = 8.3\n",
    "\n",
    "nota3 = 6.9\n",
    "\n",
    "soma = (nota1 + nota2 + nota3) / 3\n",
    "\n",
    "print(\"A soma é:\", format(soma, \".2f\"))\n",
    "\n"
   ]
  },
  {
   "cell_type": "code",
   "execution_count": null,
   "id": "26e0f071",
   "metadata": {},
   "outputs": [],
   "source": [
    "nome = input (\"Digite seu nome: \\n\") \n",
    "\n",
    "print (\"\\nO seu nome é:\" + nome)"
   ]
  },
  {
   "cell_type": "code",
   "execution_count": 54,
   "id": "9a6343b1",
   "metadata": {},
   "outputs": [
    {
     "ename": "KeyboardInterrupt",
     "evalue": "Interrupted by user",
     "output_type": "error",
     "traceback": [
      "\u001b[1;31m---------------------------------------------------------------------------\u001b[0m",
      "\u001b[1;31mKeyboardInterrupt\u001b[0m                         Traceback (most recent call last)",
      "Cell \u001b[1;32mIn[54], line 1\u001b[0m\n\u001b[1;32m----> 1\u001b[0m nome \u001b[38;5;241m=\u001b[39m \u001b[38;5;28minput\u001b[39m(\u001b[38;5;124m\"\u001b[39m\u001b[38;5;124mDigite seu nome:\u001b[39m\u001b[38;5;124m\"\u001b[39m)\n\u001b[0;32m      2\u001b[0m nota1 \u001b[38;5;241m=\u001b[39m \u001b[38;5;28mfloat\u001b[39m(\u001b[38;5;28minput\u001b[39m(\u001b[38;5;124m\"\u001b[39m\u001b[38;5;124mDigite a nota 1:\u001b[39m\u001b[38;5;124m\"\u001b[39m))\n\u001b[0;32m      3\u001b[0m nota2 \u001b[38;5;241m=\u001b[39m \u001b[38;5;28mfloat\u001b[39m(\u001b[38;5;28minput\u001b[39m(\u001b[38;5;124m\"\u001b[39m\u001b[38;5;124mDigite a nota 2:\u001b[39m\u001b[38;5;124m\"\u001b[39m))\n",
      "File \u001b[1;32m~\\anaconda3\\Lib\\site-packages\\ipykernel\\kernelbase.py:1202\u001b[0m, in \u001b[0;36mKernel.raw_input\u001b[1;34m(self, prompt)\u001b[0m\n\u001b[0;32m   1200\u001b[0m     msg \u001b[38;5;241m=\u001b[39m \u001b[38;5;124m\"\u001b[39m\u001b[38;5;124mraw_input was called, but this frontend does not support input requests.\u001b[39m\u001b[38;5;124m\"\u001b[39m\n\u001b[0;32m   1201\u001b[0m     \u001b[38;5;28;01mraise\u001b[39;00m StdinNotImplementedError(msg)\n\u001b[1;32m-> 1202\u001b[0m \u001b[38;5;28;01mreturn\u001b[39;00m \u001b[38;5;28mself\u001b[39m\u001b[38;5;241m.\u001b[39m_input_request(\n\u001b[0;32m   1203\u001b[0m     \u001b[38;5;28mstr\u001b[39m(prompt),\n\u001b[0;32m   1204\u001b[0m     \u001b[38;5;28mself\u001b[39m\u001b[38;5;241m.\u001b[39m_parent_ident[\u001b[38;5;124m\"\u001b[39m\u001b[38;5;124mshell\u001b[39m\u001b[38;5;124m\"\u001b[39m],\n\u001b[0;32m   1205\u001b[0m     \u001b[38;5;28mself\u001b[39m\u001b[38;5;241m.\u001b[39mget_parent(\u001b[38;5;124m\"\u001b[39m\u001b[38;5;124mshell\u001b[39m\u001b[38;5;124m\"\u001b[39m),\n\u001b[0;32m   1206\u001b[0m     password\u001b[38;5;241m=\u001b[39m\u001b[38;5;28;01mFalse\u001b[39;00m,\n\u001b[0;32m   1207\u001b[0m )\n",
      "File \u001b[1;32m~\\anaconda3\\Lib\\site-packages\\ipykernel\\kernelbase.py:1245\u001b[0m, in \u001b[0;36mKernel._input_request\u001b[1;34m(self, prompt, ident, parent, password)\u001b[0m\n\u001b[0;32m   1242\u001b[0m \u001b[38;5;28;01mexcept\u001b[39;00m \u001b[38;5;167;01mKeyboardInterrupt\u001b[39;00m:\n\u001b[0;32m   1243\u001b[0m     \u001b[38;5;66;03m# re-raise KeyboardInterrupt, to truncate traceback\u001b[39;00m\n\u001b[0;32m   1244\u001b[0m     msg \u001b[38;5;241m=\u001b[39m \u001b[38;5;124m\"\u001b[39m\u001b[38;5;124mInterrupted by user\u001b[39m\u001b[38;5;124m\"\u001b[39m\n\u001b[1;32m-> 1245\u001b[0m     \u001b[38;5;28;01mraise\u001b[39;00m \u001b[38;5;167;01mKeyboardInterrupt\u001b[39;00m(msg) \u001b[38;5;28;01mfrom\u001b[39;00m \u001b[38;5;28;01mNone\u001b[39;00m\n\u001b[0;32m   1246\u001b[0m \u001b[38;5;28;01mexcept\u001b[39;00m \u001b[38;5;167;01mException\u001b[39;00m:\n\u001b[0;32m   1247\u001b[0m     \u001b[38;5;28mself\u001b[39m\u001b[38;5;241m.\u001b[39mlog\u001b[38;5;241m.\u001b[39mwarning(\u001b[38;5;124m\"\u001b[39m\u001b[38;5;124mInvalid Message:\u001b[39m\u001b[38;5;124m\"\u001b[39m, exc_info\u001b[38;5;241m=\u001b[39m\u001b[38;5;28;01mTrue\u001b[39;00m)\n",
      "\u001b[1;31mKeyboardInterrupt\u001b[0m: Interrupted by user"
     ]
    }
   ],
   "source": [
    "nome = input(\"Digite seu nome:\")\n",
    "nota1 = float(input(\"Digite a nota 1:\"))\n",
    "nota2 = float(input(\"Digite a nota 2:\"))\n",
    "\n",
    "media = (nota1 + nota2) /2\n",
    "\n",
    "print(\"Seu nome é:\", nome , \"Sua média é:\", media)\n"
   ]
  },
  {
   "cell_type": "code",
   "execution_count": 86,
   "id": "b208f521",
   "metadata": {},
   "outputs": [
    {
     "name": "stdout",
     "output_type": "stream",
     "text": [
      "Escolha um numero:5\n",
      "5 x1 = 5\n",
      "5 x2 = 10\n",
      "5 x3 = 15\n",
      "5 x4 = 20\n",
      "5 x5 = 25\n",
      "5 x6 = 30\n",
      "5 x7 = 35\n",
      "5 x8 = 40\n",
      "5 x9 = 45\n",
      "5 x10 = 50\n"
     ]
    }
   ],
   "source": [
    "tabuada = int(input(\"Escolha um numero:\"))\n",
    "print(tabuada, \"x1\" , \"=\" , tabuada * 1)\n",
    "print(tabuada, \"x2\" , \"=\" , tabuada * 2)\n",
    "print(tabuada, \"x3\" , \"=\" , tabuada * 3)\n",
    "print(tabuada, \"x4\" , \"=\" , tabuada * 4)\n",
    "print(tabuada, \"x5\" , \"=\" , tabuada * 5)\n",
    "print(tabuada, \"x6\" , \"=\" , tabuada * 6)\n",
    "print(tabuada, \"x7\" , \"=\" , tabuada * 7)\n",
    "print(tabuada, \"x8\" , \"=\" , tabuada * 8)\n",
    "print(tabuada, \"x9\" , \"=\" , tabuada * 9)\n",
    "print(tabuada, \"x10\" , \"=\" , tabuada * 10)"
   ]
  },
  {
   "cell_type": "code",
   "execution_count": 91,
   "id": "d7fa0400",
   "metadata": {},
   "outputs": [
    {
     "name": "stdout",
     "output_type": "stream",
     "text": [
      "Em que ano você nasceu?1992\n",
      "32\n"
     ]
    }
   ],
   "source": [
    "ano_nasc = int(input(\"Em que ano você nasceu?\"))\n",
    "ano_atual = 2024\n",
    "\n",
    "soma = ano_atual - ano_nasc\n",
    "\n",
    "print(soma)"
   ]
  },
  {
   "cell_type": "code",
   "execution_count": 110,
   "id": "b50c27b3",
   "metadata": {},
   "outputs": [
    {
     "name": "stdout",
     "output_type": "stream",
     "text": [
      "94\n",
      "31\n",
      "banana\n"
     ]
    }
   ],
   "source": [
    "import random\n",
    "\n",
    "print(random.randrange(1, 100))\n",
    "print(random.randint(1, 100))\n",
    "\n",
    "\n",
    "frutas = [\"maça\", \"banana\", \"cereja\", \"abacate\"]\n",
    "print(random.choice(frutas))"
   ]
  },
  {
   "cell_type": "code",
   "execution_count": 118,
   "id": "0d53498e",
   "metadata": {},
   "outputs": [
    {
     "name": "stdout",
     "output_type": "stream",
     "text": [
      "Olá, meu nome é Alice, tenho 25 anos, e possuo 1.65 metros\n"
     ]
    }
   ],
   "source": [
    "nome = \"Alice\"\n",
    "idade = 25\n",
    "altura = 1.65\n",
    "\n",
    "mensagem = f\"Olá, meu nome é {nome}, tenho {idade} anos, e possuo {altura} metros\"\n",
    "\n",
    "print(mensagem)"
   ]
  },
  {
   "cell_type": "code",
   "execution_count": 131,
   "id": "84e99839",
   "metadata": {},
   "outputs": [
    {
     "name": "stdout",
     "output_type": "stream",
     "text": [
      "Maria Silva\n",
      "Olá, meu nome é Maria Silva, e tenho 30 anos\n"
     ]
    }
   ],
   "source": [
    "# Exercicio de aprendizagem:\n",
    "# 1. Crie uma variavel chamada \"nome\" e a atribua a ela o valor \"Maria\"\n",
    "# 2. Crie uma variavel chamada \"sobrenome\" e a atribua a ela o valor \"Silva\"\n",
    "# 3. Crie uma variavel chamada \"idade\" e a atribua a ela o valor \"30\"\n",
    "# 4. concatene as variaveis nome e sobrenome em uma variavel chamada \"nome_completo\"\n",
    "# 5. imprima na tela o valor da variavel nome completo\n",
    "# 6. crie uma variavel chamada mensagem que utilize a furnçao format para criar uma frase personalizada com as variaveis\n",
    "# 7. Imprima na tela o valor da variavel \"mensagem\"\n",
    "\n",
    "\n",
    "nome = \"Maria\"\n",
    "sobrenome = \"Silva\"\n",
    "idade = 30\n",
    "\n",
    "nome_completo = nome +\" \" +sobrenome\n",
    "\n",
    "print(nome_completo)\n",
    "\n",
    "mensagem = \"Olá, meu nome é {}, e tenho {} anos\".format(nome_completo, idade)\n",
    "print(mensagem)\n"
   ]
  },
  {
   "cell_type": "code",
   "execution_count": null,
   "id": "b9060f16",
   "metadata": {},
   "outputs": [],
   "source": []
  }
 ],
 "metadata": {
  "kernelspec": {
   "display_name": "Python 3 (ipykernel)",
   "language": "python",
   "name": "python3"
  },
  "language_info": {
   "codemirror_mode": {
    "name": "ipython",
    "version": 3
   },
   "file_extension": ".py",
   "mimetype": "text/x-python",
   "name": "python",
   "nbconvert_exporter": "python",
   "pygments_lexer": "ipython3",
   "version": "3.11.5"
  }
 },
 "nbformat": 4,
 "nbformat_minor": 5
}
