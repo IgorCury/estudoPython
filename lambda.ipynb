{
 "cells": [
  {
   "cell_type": "code",
   "execution_count": 1,
   "metadata": {},
   "outputs": [
    {
     "name": "stdout",
     "output_type": "stream",
     "text": [
      "[2, 4, 6, 8, 10]\n"
     ]
    }
   ],
   "source": [
    "#lambda com numeros\n",
    "numeros = [1, 2, 3, 4, 6, 7, 8, 9, 10]\n",
    "\n",
    "numero_pares = list(filter(lambda x:x % 2 == 0, numeros))\n",
    "print(numero_pares)"
   ]
  },
  {
   "cell_type": "code",
   "execution_count": 31,
   "metadata": {},
   "outputs": [
    {
     "name": "stdout",
     "output_type": "stream",
     "text": [
      "[5, 15, 23, 25]\n"
     ]
    }
   ],
   "source": [
    "numeros = [2, 5, 8, 10, 12, 15, 18, 20, 23, 25, 28]\n",
    "\n",
    "numero_impar = list(filter(lambda x:x % 2 == 1, numeros))\n",
    "print(numero_impar)"
   ]
  },
  {
   "cell_type": "code",
   "execution_count": 5,
   "metadata": {},
   "outputs": [
    {
     "name": "stdout",
     "output_type": "stream",
     "text": [
      "['amanda', 'amarildo', 'antenor']\n"
     ]
    }
   ],
   "source": [
    "\n",
    "#lambda com letras\n",
    "lista = [\"amanda\", 'beatriz', 'amarildo', 'fernando', 'antenor', 'paulo']\n",
    "nomes_a = list(filter(lambda x: x[0] == 'a', lista))\n",
    "print(nomes_a)"
   ]
  },
  {
   "cell_type": "code",
   "execution_count": 19,
   "metadata": {},
   "outputs": [
    {
     "name": "stdout",
     "output_type": "stream",
     "text": [
      "['amanda']\n"
     ]
    }
   ],
   "source": [
    "lista = [\"amanda\", 'beatriz', 'amarildo', 'fernando', 'antenor', 'paulo']\n",
    "nomes_a = list(filter(lambda x: x == 'amanda', lista))\n",
    "print(nomes_a)"
   ]
  },
  {
   "cell_type": "code",
   "execution_count": 20,
   "metadata": {},
   "outputs": [
    {
     "name": "stdout",
     "output_type": "stream",
     "text": [
      "[1, 4, 9, 16, 25]\n"
     ]
    }
   ],
   "source": [
    "numeros = [1, 2, 3, 4, 5]\n",
    "numero1 = list(map(lambda x:x**2, numeros))\n",
    "print(numero1)"
   ]
  },
  {
   "cell_type": "code",
   "execution_count": null,
   "metadata": {},
   "outputs": [],
   "source": []
  }
 ],
 "metadata": {
  "kernelspec": {
   "display_name": "Python 3",
   "language": "python",
   "name": "python3"
  },
  "language_info": {
   "codemirror_mode": {
    "name": "ipython",
    "version": 3
   },
   "file_extension": ".py",
   "mimetype": "text/x-python",
   "name": "python",
   "nbconvert_exporter": "python",
   "pygments_lexer": "ipython3",
   "version": "3.12.2"
  }
 },
 "nbformat": 4,
 "nbformat_minor": 2
}
