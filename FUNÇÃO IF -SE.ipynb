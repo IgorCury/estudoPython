{
 "cells": [
  {
   "cell_type": "code",
   "execution_count": 5,
   "id": "d97ba8ed",
   "metadata": {},
   "outputs": [
    {
     "name": "stdout",
     "output_type": "stream",
     "text": [
      "O numero 1 e maior que o numero 2\n"
     ]
    }
   ],
   "source": [
    "# Python funcao if ou seja função se\n",
    "\n",
    "numero1 = 90\n",
    "numero2 = 12\n",
    "\n",
    "#se a variavel numero1 e maior que a variavel numero2\n",
    "\n",
    "if numero1 > numero2:\n",
    "\n",
    "  print(\"O numero 1 e maior que o numero 2\")\n"
   ]
  },
  {
   "cell_type": "code",
   "execution_count": 7,
   "id": "a795f324",
   "metadata": {},
   "outputs": [
    {
     "name": "stdout",
     "output_type": "stream",
     "text": [
      "O um é igual ao dois\n"
     ]
    }
   ],
   "source": [
    "# Python funcao if ou seja função se\n",
    "#if = se\n",
    "#elif = se não se\n",
    "\n",
    "numero1 = 6\n",
    "numero2 = 6\n",
    "\n",
    "#se a variavel numero1 e maior que a variavel numero2\n",
    "\n",
    "if numero1 > numero2:\n",
    "\n",
    "  print(\"O numero 1 e maior que o numero 2\")\n",
    "\n",
    "elif numero1 == numero2:\n",
    "\n",
    "  print(\"O um é igual ao dois\")\n"
   ]
  },
  {
   "cell_type": "code",
   "execution_count": 60,
   "id": "20172e9a",
   "metadata": {},
   "outputs": [
    {
     "name": "stdout",
     "output_type": "stream",
     "text": [
      "Tente adivinhar o numero de 1 a 10: 5\n",
      "Parabéns voce acertou o numero da sorte\n"
     ]
    }
   ],
   "source": [
    "num_secreto = 5\n",
    "\n",
    "chute = int(input(\"Tente adivinhar o numero de 1 a 10: \"))\n",
    "\n",
    "if chute == num_secreto:\n",
    "\n",
    "  print(\"Parabéns voce acertou o numero da sorte\")\n",
    "\n",
    "\n",
    "else:\n",
    "\n",
    "  print(\"você errou o numero da sorte\")\n",
    "\n",
    "\n",
    "\n"
   ]
  },
  {
   "cell_type": "code",
   "execution_count": 67,
   "id": "475b7051",
   "metadata": {},
   "outputs": [
    {
     "name": "stdout",
     "output_type": "stream",
     "text": [
      "Digite sua idade 18\n",
      "Parabens você faz a diferença\n"
     ]
    }
   ],
   "source": [
    "voto = int(input(\"Digite sua idade \"))\n",
    "\n",
    "#if \n",
    "if voto >= 18:\n",
    "\n",
    "     print(\"Parabens você faz a diferença\")\n",
    "    \n",
    "else:\n",
    "    print(\"tente ano que vem e continue ativo\")"
   ]
  },
  {
   "cell_type": "code",
   "execution_count": 86,
   "id": "1d58ee0a",
   "metadata": {},
   "outputs": [
    {
     "name": "stdout",
     "output_type": "stream",
     "text": [
      "Digite um número: 4\n",
      "Esse número é par!\n"
     ]
    }
   ],
   "source": [
    "\n",
    "\n",
    "num = float(input('Digite um número: '))\n",
    "\n",
    "num_arredondado = num % 2\n",
    "\n",
    "if num_arredondado == 0:\n",
    "  print('Esse número é par!')\n",
    "else:\n",
    "  print('Ele é ímpar!')"
   ]
  },
  {
   "cell_type": "code",
   "execution_count": 94,
   "id": "70e623a5",
   "metadata": {},
   "outputs": [
    {
     "name": "stdout",
     "output_type": "stream",
     "text": [
      "baixa\n",
      "\n"
     ]
    }
   ],
   "source": [
    "score = 10\n",
    "categoria = \"baixa\" if score < 50 else \"media\" if score < 80 else \"alta\"\n",
    "print(categoria)\n",
    "print()"
   ]
  },
  {
   "cell_type": "code",
   "execution_count": 155,
   "id": "2efa6cac",
   "metadata": {},
   "outputs": [
    {
     "name": "stdout",
     "output_type": "stream",
     "text": [
      "Digite sua idade 50\n",
      "Adulto\n"
     ]
    }
   ],
   "source": [
    "    idade = 25  # Altere esse valor para testar diferentes faixas etárias\n",
    "\n",
    "\n",
    "    # Escreva sua estrutura condicional abaixo\n",
    "\n",
    "    voto = int(input(\"Digite sua idade \"))\n",
    "\n",
    "    if voto <= 12:\n",
    "\n",
    "         print(\"Criança\")\n",
    "\n",
    "    elif voto <= 17:\n",
    "\n",
    "      print(\"Adolecente\")\n",
    "\n",
    "    elif voto <= 59:\n",
    "\n",
    "      print(\"Adulto\")\n",
    "\n",
    "    else:\n",
    "        print(\"Idoso\")"
   ]
  },
  {
   "cell_type": "code",
   "execution_count": null,
   "id": "051c4f56",
   "metadata": {},
   "outputs": [],
   "source": []
  },
  {
   "cell_type": "code",
   "execution_count": null,
   "id": "abfe230d",
   "metadata": {},
   "outputs": [],
   "source": []
  },
  {
   "cell_type": "code",
   "execution_count": null,
   "id": "ce7b10e1",
   "metadata": {},
   "outputs": [],
   "source": []
  }
 ],
 "metadata": {
  "kernelspec": {
   "display_name": "Python 3 (ipykernel)",
   "language": "python",
   "name": "python3"
  },
  "language_info": {
   "codemirror_mode": {
    "name": "ipython",
    "version": 3
   },
   "file_extension": ".py",
   "mimetype": "text/x-python",
   "name": "python",
   "nbconvert_exporter": "python",
   "pygments_lexer": "ipython3",
   "version": "3.11.5"
  }
 },
 "nbformat": 4,
 "nbformat_minor": 5
}
